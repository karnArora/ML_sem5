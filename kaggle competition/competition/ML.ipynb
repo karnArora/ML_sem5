{
 "cells": [
  {
   "cell_type": "code",
   "execution_count": 1,
   "id": "4e14b6c4",
   "metadata": {},
   "outputs": [],
   "source": [
    "import pandas as pd\n",
    "import numpy as np\n",
    "import matplotlib.pyplot as plt\n",
    "import seaborn as sns\n",
    "from sklearn.preprocessing import OneHotEncoder,StandardScaler\n",
    "from sklearn.pipeline import Pipeline\n",
    "from sklearn.impute import SimpleImputer\n",
    "from sklearn.compose import ColumnTransformer\n",
    "from sklearn.model_selection import train_test_split\n",
    "from scipy.stats import chi2_contingency\n",
    "from sklearn.feature_selection import chi2\n",
    "from sklearn.preprocessing import LabelEncoder\n",
    "from sklearn.compose import ColumnTransformer\n",
    "from sklearn.metrics import mean_squared_error\n",
    "from sklearn import linear_model"
   ]
  },
  {
   "cell_type": "code",
   "execution_count": 2,
   "id": "2f4831a3",
   "metadata": {},
   "outputs": [],
   "source": [
    "train = pd.read_csv('train.csv')\n",
    "test = pd.read_csv('test.csv')"
   ]
  },
  {
   "cell_type": "code",
   "execution_count": 3,
   "id": "025e477e",
   "metadata": {},
   "outputs": [
    {
     "name": "stdout",
     "output_type": "stream",
     "text": [
      "<class 'pandas.core.frame.DataFrame'>\n",
      "RangeIndex: 13375 entries, 0 to 13374\n",
      "Data columns (total 18 columns):\n",
      " #   Column           Non-Null Count  Dtype  \n",
      "---  ------           --------------  -----  \n",
      " 0   id               13375 non-null  int64  \n",
      " 1   index            13375 non-null  int64  \n",
      " 2   Name             13373 non-null  object \n",
      " 3   Platform         13375 non-null  object \n",
      " 4   Year_of_Release  13150 non-null  float64\n",
      " 5   Genre            13373 non-null  object \n",
      " 6   Publisher        13328 non-null  object \n",
      " 7   NA_Sales         13375 non-null  float64\n",
      " 8   EU_Sales         13375 non-null  float64\n",
      " 9   JP_Sales         13375 non-null  float64\n",
      " 10  Other_Sales      13375 non-null  float64\n",
      " 11  Global_Sales     13375 non-null  float64\n",
      " 12  Critic_Score     6505 non-null   float64\n",
      " 13  Critic_Count     6505 non-null   float64\n",
      " 14  User_Score       8007 non-null   object \n",
      " 15  User_Count       6039 non-null   float64\n",
      " 16  Developer        8067 non-null   object \n",
      " 17  Rating           7944 non-null   object \n",
      "dtypes: float64(9), int64(2), object(7)\n",
      "memory usage: 1.8+ MB\n"
     ]
    }
   ],
   "source": [
    "train.info()"
   ]
  },
  {
   "cell_type": "code",
   "execution_count": 4,
   "id": "220b36c3",
   "metadata": {},
   "outputs": [],
   "source": [
    "#EDA "
   ]
  },
  {
   "cell_type": "code",
   "execution_count": 5,
   "id": "cde85750",
   "metadata": {},
   "outputs": [
    {
     "data": {
      "text/plain": [
       "<AxesSubplot:>"
      ]
     },
     "execution_count": 5,
     "metadata": {},
     "output_type": "execute_result"
    },
    {
     "data": {
      "image/png": "[encoded data removed]",
      "text/plain": [
       "<Figure size 432x288 with 1 Axes>"
      ]
     },
     "metadata": {
      "needs_background": "light"
     },
     "output_type": "display_data"
    }
   ],
   "source": [
    "sns.heatmap(train.isnull(),yticklabels=False,cbar=False,cmap=\"viridis\")"
   ]
  },
  {
   "cell_type": "code",
   "execution_count": 6,
   "id": "3591e8c8",
   "metadata": {},
   "outputs": [
    {
     "data": {
      "text/plain": [
       "id                    0\n",
       "index                 0\n",
       "Name                  2\n",
       "Platform              0\n",
       "Year_of_Release     225\n",
       "Genre                 2\n",
       "Publisher            47\n",
       "NA_Sales              0\n",
       "EU_Sales              0\n",
       "JP_Sales              0\n",
       "Other_Sales           0\n",
       "Global_Sales          0\n",
       "Critic_Score       6870\n",
       "Critic_Count       6870\n",
       "User_Score         5368\n",
       "User_Count         7336\n",
       "Developer          5308\n",
       "Rating             5431\n",
       "dtype: int64"
      ]
     },
     "execution_count": 6,
     "metadata": {},
     "output_type": "execute_result"
    }
   ],
   "source": [
    "train.isna().sum()"
   ]
  },
  {
   "cell_type": "code",
   "execution_count": 7,
   "id": "d2244264",
   "metadata": {},
   "outputs": [
    {
     "data": {
      "text/plain": [
       "Index(['id', 'index', 'Name', 'Platform', 'Year_of_Release', 'Genre',\n",
       "       'Publisher', 'NA_Sales', 'EU_Sales', 'JP_Sales', 'Other_Sales',\n",
       "       'Global_Sales', 'Critic_Score', 'Critic_Count', 'User_Score',\n",
       "       'User_Count', 'Developer', 'Rating'],\n",
       "      dtype='object')"
      ]
     },
     "execution_count": 7,
     "metadata": {},
     "output_type": "execute_result"
    }
   ],
   "source": [
    "train.columns"
   ]
  },
  {
   "cell_type": "code",
   "execution_count": 8,
   "id": "a4c218cd",
   "metadata": {},
   "outputs": [
    {
     "name": "stdout",
     "output_type": "stream",
     "text": [
      "P-value:  1.0\n"
     ]
    }
   ],
   "source": [
    "csq=chi2_contingency(pd.crosstab(train['Name'], train['Global_Sales']))\n",
    "print(\"P-value: \",csq[1])"
   ]
  },
  {
   "cell_type": "code",
   "execution_count": 9,
   "id": "1ff8bfb5",
   "metadata": {},
   "outputs": [
    {
     "name": "stdout",
     "output_type": "stream",
     "text": [
      "P-value:  2.4217104612431936e-130\n"
     ]
    }
   ],
   "source": [
    "csq=chi2_contingency(pd.crosstab(train['Platform'], train['Global_Sales']))\n",
    "print(\"P-value: \",csq[1])"
   ]
  },
  {
   "cell_type": "code",
   "execution_count": 10,
   "id": "d86490f0",
   "metadata": {},
   "outputs": [
    {
     "name": "stdout",
     "output_type": "stream",
     "text": [
      "P-value:  1.2273677393779472e-07\n"
     ]
    }
   ],
   "source": [
    "csq=chi2_contingency(pd.crosstab(train['Genre'], train['Global_Sales']))\n",
    "print(\"P-value: \",csq[1])"
   ]
  },
  {
   "cell_type": "code",
   "execution_count": 11,
   "id": "01569207",
   "metadata": {},
   "outputs": [
    {
     "name": "stdout",
     "output_type": "stream",
     "text": [
      "P-value:  1.0\n"
     ]
    }
   ],
   "source": [
    "csq=chi2_contingency(pd.crosstab(train['Publisher'], train['Global_Sales']))\n",
    "print(\"P-value: \",csq[1])"
   ]
  },
  {
   "cell_type": "code",
   "execution_count": 12,
   "id": "530b5c32",
   "metadata": {},
   "outputs": [],
   "source": [
    "train= train.drop(['index','Critic_Score', 'Critic_Count', 'User_Score','User_Count', 'Developer', 'Rating','Publisher','Name','Year_of_Release','Genre','id','Platform'],axis=1)"
   ]
  },
  {
   "cell_type": "code",
   "execution_count": 13,
   "id": "c903537c",
   "metadata": {},
   "outputs": [],
   "source": [
    "test= test.drop(['Critic_Score', 'Critic_Count', 'User_Score','User_Count', 'Developer', 'Rating','Publisher','Name','Year_of_Release','Genre','id','Platform'],axis=1)"
   ]
  },
  {
   "cell_type": "code",
   "execution_count": 14,
   "id": "9cc38e69",
   "metadata": {},
   "outputs": [
    {
     "data": {
      "text/plain": [
       "Index(['NA_Sales', 'EU_Sales', 'JP_Sales', 'Other_Sales'], dtype='object')"
      ]
     },
     "execution_count": 14,
     "metadata": {},
     "output_type": "execute_result"
    }
   ],
   "source": [
    "test.columns"
   ]
  },
  {
   "cell_type": "code",
   "execution_count": 15,
   "id": "99136141",
   "metadata": {},
   "outputs": [
    {
     "data": {
      "image/png": "[encoded data removed]",
      "text/plain": [
       "<Figure size 720x576 with 2 Axes>"
      ]
     },
     "metadata": {
      "needs_background": "light"
     },
     "output_type": "display_data"
    }
   ],
   "source": [
    "plt.figure(figsize=(10,8))\n",
    "sns.heatmap(train.corr(),annot=True)\n",
    "plt.show()"
   ]
  },
  {
   "cell_type": "code",
   "execution_count": 16,
   "id": "28b28659",
   "metadata": {},
   "outputs": [],
   "source": [
    "# train.Genre.fillna(train.Genre.mode()[0], inplace = True)"
   ]
  },
  {
   "cell_type": "code",
   "execution_count": 17,
   "id": "aa5005ca",
   "metadata": {},
   "outputs": [
    {
     "data": {
      "text/plain": [
       "NA_Sales        0\n",
       "EU_Sales        0\n",
       "JP_Sales        0\n",
       "Other_Sales     0\n",
       "Global_Sales    0\n",
       "dtype: int64"
      ]
     },
     "execution_count": 17,
     "metadata": {},
     "output_type": "execute_result"
    }
   ],
   "source": [
    "train.isna().sum()"
   ]
  },
  {
   "cell_type": "code",
   "execution_count": 18,
   "id": "0e5a2c51",
   "metadata": {},
   "outputs": [
    {
     "data": {
      "text/plain": [
       "Index(['NA_Sales', 'EU_Sales', 'JP_Sales', 'Other_Sales', 'Global_Sales'], dtype='object')"
      ]
     },
     "execution_count": 18,
     "metadata": {},
     "output_type": "execute_result"
    }
   ],
   "source": [
    "train.columns"
   ]
  },
  {
   "cell_type": "code",
   "execution_count": 19,
   "id": "b871dbfe",
   "metadata": {},
   "outputs": [
    {
     "name": "stdout",
     "output_type": "stream",
     "text": [
      "<class 'pandas.core.frame.DataFrame'>\n",
      "RangeIndex: 13375 entries, 0 to 13374\n",
      "Data columns (total 5 columns):\n",
      " #   Column        Non-Null Count  Dtype  \n",
      "---  ------        --------------  -----  \n",
      " 0   NA_Sales      13375 non-null  float64\n",
      " 1   EU_Sales      13375 non-null  float64\n",
      " 2   JP_Sales      13375 non-null  float64\n",
      " 3   Other_Sales   13375 non-null  float64\n",
      " 4   Global_Sales  13375 non-null  float64\n",
      "dtypes: float64(5)\n",
      "memory usage: 522.6 KB\n"
     ]
    }
   ],
   "source": [
    "train.info()"
   ]
  },
  {
   "cell_type": "markdown",
   "id": "f3517e1d",
   "metadata": {},
   "source": [
    "## Dropped columns with p-value 1"
   ]
  },
  {
   "cell_type": "markdown",
   "id": "494270ee",
   "metadata": {},
   "source": [
    "## one hot"
   ]
  },
  {
   "cell_type": "code",
   "execution_count": 20,
   "id": "1899cbf7",
   "metadata": {},
   "outputs": [],
   "source": [
    "# cat_encoder = OneHotEncoder()\n",
    "# platform_1hot = cat_encoder.fit_transform(train[['Platform']])\n",
    "# platform_1hot"
   ]
  },
  {
   "cell_type": "code",
   "execution_count": 21,
   "id": "860712a7",
   "metadata": {},
   "outputs": [],
   "source": [
    "# platform=LabelEncoder()"
   ]
  },
  {
   "cell_type": "code",
   "execution_count": 22,
   "id": "cda79972",
   "metadata": {},
   "outputs": [],
   "source": [
    "# platform_onehot=platform.fit_transform(train[['Platform']])\n",
    "# platform_onehot"
   ]
  },
  {
   "cell_type": "code",
   "execution_count": 23,
   "id": "3889d10e",
   "metadata": {},
   "outputs": [],
   "source": [
    "# ct=ColumnTransformer(transformers=[('encode', OneHotEncoder(),train[['Platform']])],remainder='passthrough')"
   ]
  },
  {
   "cell_type": "code",
   "execution_count": 24,
   "id": "75c50abb",
   "metadata": {},
   "outputs": [],
   "source": [
    "# categorical_features = train.select_dtypes(include=\"object\").columns\n",
    "# integer_features = train.select_dtypes(exclude=\"object\").columns"
   ]
  },
  {
   "cell_type": "code",
   "execution_count": 25,
   "id": "2114fe88",
   "metadata": {},
   "outputs": [],
   "source": [
    "# Y=ct.fit_transform(train)"
   ]
  },
  {
   "cell_type": "code",
   "execution_count": 26,
   "id": "4f8820ba",
   "metadata": {},
   "outputs": [
    {
     "data": {
      "text/plain": [
       "Index(['NA_Sales', 'EU_Sales', 'JP_Sales', 'Other_Sales', 'Global_Sales'], dtype='object')"
      ]
     },
     "execution_count": 26,
     "metadata": {},
     "output_type": "execute_result"
    }
   ],
   "source": [
    "train.columns"
   ]
  },
  {
   "cell_type": "code",
   "execution_count": 27,
   "id": "83f1d0e0",
   "metadata": {},
   "outputs": [],
   "source": [
    "X_train, X_test, Y_train, Y_test = train_test_split(train.drop(['Global_Sales'],axis=1),\n",
    "                                                    train['Global_Sales'],test_size = 0.2 , random_state = 101)"
   ]
  },
  {
   "cell_type": "code",
   "execution_count": 28,
   "id": "93897d78",
   "metadata": {},
   "outputs": [
    {
     "data": {
      "text/plain": [
       "(10700, 4)"
      ]
     },
     "execution_count": 28,
     "metadata": {},
     "output_type": "execute_result"
    }
   ],
   "source": [
    "X_train.shape"
   ]
  },
  {
   "cell_type": "code",
   "execution_count": 38,
   "id": "0b4f6888",
   "metadata": {},
   "outputs": [],
   "source": [
    "from sklearn.linear_model import LinearRegression\n",
    "from sklearn.linear_model import Ridge\n",
    "model=LinearRegression()#best so far\n",
    "# model=Ridge(alpha=1.0)\n",
    "#model=linear_model.Lasso(alpha=0.1)#tatti"
   ]
  },
  {
   "cell_type": "code",
   "execution_count": 39,
   "id": "67bbc7a2",
   "metadata": {},
   "outputs": [
    {
     "data": {
      "text/plain": [
       "Ridge()"
      ]
     },
     "execution_count": 39,
     "metadata": {},
     "output_type": "execute_result"
    }
   ],
   "source": [
    "model.fit(X_train,Y_train)"
   ]
  },
  {
   "cell_type": "code",
   "execution_count": 40,
   "id": "6ee35f47",
   "metadata": {},
   "outputs": [],
   "source": [
    "Y_pred=model.predict(X_test)"
   ]
  },
  {
   "cell_type": "code",
   "execution_count": 41,
   "id": "4c2ecf8c",
   "metadata": {},
   "outputs": [
    {
     "data": {
      "text/plain": [
       "3762     0.19\n",
       "8598     0.02\n",
       "11205    0.01\n",
       "11059    0.71\n",
       "11171    0.14\n",
       "6403     0.11\n",
       "12740    0.96\n",
       "11667    0.01\n",
       "10426    0.04\n",
       "12171    0.29\n",
       "Name: Global_Sales, dtype: float64"
      ]
     },
     "execution_count": 41,
     "metadata": {},
     "output_type": "execute_result"
    }
   ],
   "source": [
    "Y_test.head(10)"
   ]
  },
  {
   "cell_type": "code",
   "execution_count": 42,
   "id": "e2024720",
   "metadata": {},
   "outputs": [
    {
     "data": {
      "text/plain": [
       "array([0.20036717, 0.02036953, 0.01039286, 0.71040608, 0.14042586,\n",
       "       0.1102754 , 0.95985535, 0.01039339, 0.04040064, 0.29031941])"
      ]
     },
     "execution_count": 42,
     "metadata": {},
     "output_type": "execute_result"
    }
   ],
   "source": [
    "Y_pred[0:10]"
   ]
  },
  {
   "cell_type": "code",
   "execution_count": 43,
   "id": "3225d3ac",
   "metadata": {},
   "outputs": [
    {
     "data": {
      "text/plain": [
       "0.005213764370502394"
      ]
     },
     "execution_count": 43,
     "metadata": {},
     "output_type": "execute_result"
    }
   ],
   "source": [
    "lin_mse = mean_squared_error(Y_test, Y_pred)\n",
    "lin_rmse = np.sqrt(lin_mse)\n",
    "lin_rmse"
   ]
  },
  {
   "cell_type": "code",
   "execution_count": 35,
   "id": "eee29a53",
   "metadata": {},
   "outputs": [],
   "source": [
    "sub_preds= model.predict(test) "
   ]
  },
  {
   "cell_type": "code",
   "execution_count": 36,
   "id": "c92a760d",
   "metadata": {},
   "outputs": [],
   "source": [
    "sub = pd.read_csv('test.csv')\n",
    "sub['Global_Sales'] = sub_preds"
   ]
  },
  {
   "cell_type": "code",
   "execution_count": 37,
   "id": "7aed8cba",
   "metadata": {},
   "outputs": [],
   "source": [
    "sub.to_csv('submission2.csv', index=False)"
   ]
  },
  {
   "cell_type": "code",
   "execution_count": null,
   "id": "1e55f63a",
   "metadata": {},
   "outputs": [],
   "source": []
  }
 ],
 "metadata": {
  "kernelspec": {
   "display_name": "Python 3 (ipykernel)",
   "language": "python",
   "name": "python3"
  },
  "language_info": {
   "codemirror_mode": {
    "name": "ipython",
    "version": 3
   },
   "file_extension": ".py",
   "mimetype": "text/x-python",
   "name": "python",
   "nbconvert_exporter": "python",
   "pygments_lexer": "ipython3",
   "version": "3.9.6"
  }
 },
 "nbformat": 4,
 "nbformat_minor": 5
}
