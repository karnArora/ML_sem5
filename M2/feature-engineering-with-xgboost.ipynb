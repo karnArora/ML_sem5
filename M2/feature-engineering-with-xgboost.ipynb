{
 "cells": [
  {
   "cell_type": "code",
   "execution_count": 1,
   "id": "ea5ec21d",
   "metadata": {
    "_cell_guid": "b1076dfc-b9ad-4769-8c92-a6c4dae69d19",
    "_uuid": "8f2839f25d086af736a60e9eeb907d3b93b6e0e5",
    "execution": {
     "iopub.execute_input": "2021-10-08T09:25:55.517415Z",
     "iopub.status.busy": "2021-10-08T09:25:55.516763Z",
     "iopub.status.idle": "2021-10-08T09:25:56.568980Z",
     "shell.execute_reply": "2021-10-08T09:25:56.569462Z",
     "shell.execute_reply.started": "2021-10-08T09:22:06.757211Z"
    },
    "papermill": {
     "duration": 1.085284,
     "end_time": "2021-10-08T09:25:56.569782",
     "exception": false,
     "start_time": "2021-10-08T09:25:55.484498",
     "status": "completed"
    },
    "tags": []
   },
   "outputs": [],
   "source": [
    "import pandas as pd\n",
    "import numpy as np\n",
    "import matplotlib.pyplot as plt\n",
    "\n",
    "from sklearn import model_selection\n",
    "from sklearn import preprocessing\n",
    "from sklearn import metrics\n",
    "import itertools\n",
    "import seaborn as sns\n",
    "\n",
    "import joblib"
   ]
  },
  {
   "cell_type": "code",
   "execution_count": 2,
   "id": "05190b60",
   "metadata": {
    "execution": {
     "iopub.execute_input": "2021-10-08T09:25:56.616413Z",
     "iopub.status.busy": "2021-10-08T09:25:56.615836Z",
     "iopub.status.idle": "2021-10-08T09:25:56.620693Z",
     "shell.execute_reply": "2021-10-08T09:25:56.620258Z",
     "shell.execute_reply.started": "2021-10-08T09:22:07.671928Z"
    },
    "papermill": {
     "duration": 0.028346,
     "end_time": "2021-10-08T09:25:56.620851",
     "exception": false,
     "start_time": "2021-10-08T09:25:56.592505",
     "status": "completed"
    },
    "tags": []
   },
   "outputs": [],
   "source": [
    "class config:\n",
    "    \n",
    "    NUM_FOLDS = 5\n",
    "    \n",
    "    TRAIN_PATH = \"../input/nmims-m2-batch-5/train.csv\"\n",
    "    \n",
    "    TEST_PATH = \"../input/nmims-m2-batch-5/test.csv\""
   ]
  },
  {
   "cell_type": "code",
   "execution_count": 3,
   "id": "aa02c955",
   "metadata": {
    "execution": {
     "iopub.execute_input": "2021-10-08T09:25:56.667881Z",
     "iopub.status.busy": "2021-10-08T09:25:56.667223Z",
     "iopub.status.idle": "2021-10-08T09:25:56.686467Z",
     "shell.execute_reply": "2021-10-08T09:25:56.685355Z",
     "shell.execute_reply.started": "2021-10-08T09:22:07.679786Z"
    },
    "papermill": {
     "duration": 0.044594,
     "end_time": "2021-10-08T09:25:56.686625",
     "exception": false,
     "start_time": "2021-10-08T09:25:56.642031",
     "status": "completed"
    },
    "tags": []
   },
   "outputs": [],
   "source": [
    "train = pd.read_csv(config.TRAIN_PATH)\n",
    "test = pd.read_csv(config.TEST_PATH)"
   ]
  },
  {
   "cell_type": "code",
   "execution_count": 4,
   "id": "9679b73c",
   "metadata": {
    "execution": {
     "iopub.execute_input": "2021-10-08T09:25:56.735209Z",
     "iopub.status.busy": "2021-10-08T09:25:56.734244Z",
     "iopub.status.idle": "2021-10-08T09:25:56.738115Z",
     "shell.execute_reply": "2021-10-08T09:25:56.738505Z",
     "shell.execute_reply.started": "2021-10-08T09:22:07.716569Z"
    },
    "papermill": {
     "duration": 0.029453,
     "end_time": "2021-10-08T09:25:56.738666",
     "exception": false,
     "start_time": "2021-10-08T09:25:56.709213",
     "status": "completed"
    },
    "tags": []
   },
   "outputs": [
    {
     "name": "stdout",
     "output_type": "stream",
     "text": [
      "Train shape: (1590, 10)\n",
      "Test shape: (397, 9)\n"
     ]
    }
   ],
   "source": [
    "print(f\"Train shape: {train.shape}\")\n",
    "print(f\"Test shape: {test.shape}\")"
   ]
  },
  {
   "cell_type": "code",
   "execution_count": 5,
   "id": "87a5ac05",
   "metadata": {
    "execution": {
     "iopub.execute_input": "2021-10-08T09:25:56.789668Z",
     "iopub.status.busy": "2021-10-08T09:25:56.788761Z",
     "iopub.status.idle": "2021-10-08T09:25:56.805044Z",
     "shell.execute_reply": "2021-10-08T09:25:56.805480Z",
     "shell.execute_reply.started": "2021-10-08T09:22:07.723742Z"
    },
    "papermill": {
     "duration": 0.045534,
     "end_time": "2021-10-08T09:25:56.805640",
     "exception": false,
     "start_time": "2021-10-08T09:25:56.760106",
     "status": "completed"
    },
    "tags": []
   },
   "outputs": [
    {
     "data": {
      "text/html": [
       "<div>\n",
       "<style scoped>\n",
       "    .dataframe tbody tr th:only-of-type {\n",
       "        vertical-align: middle;\n",
       "    }\n",
       "\n",
       "    .dataframe tbody tr th {\n",
       "        vertical-align: top;\n",
       "    }\n",
       "\n",
       "    .dataframe thead th {\n",
       "        text-align: right;\n",
       "    }\n",
       "</style>\n",
       "<table border=\"1\" class=\"dataframe\">\n",
       "  <thead>\n",
       "    <tr style=\"text-align: right;\">\n",
       "      <th></th>\n",
       "      <th>id</th>\n",
       "      <th>Age</th>\n",
       "      <th>Employment Type</th>\n",
       "      <th>GraduateOrNot</th>\n",
       "      <th>AnnualIncome</th>\n",
       "      <th>FamilyMembers</th>\n",
       "      <th>ChronicDiseases</th>\n",
       "      <th>FrequentFlyer</th>\n",
       "      <th>EverTravelledAbroad</th>\n",
       "      <th>TravelInsurance</th>\n",
       "    </tr>\n",
       "  </thead>\n",
       "  <tbody>\n",
       "    <tr>\n",
       "      <th>0</th>\n",
       "      <td>1144</td>\n",
       "      <td>33</td>\n",
       "      <td>Government Sector</td>\n",
       "      <td>Yes</td>\n",
       "      <td>800000</td>\n",
       "      <td>5</td>\n",
       "      <td>1</td>\n",
       "      <td>No</td>\n",
       "      <td>No</td>\n",
       "      <td>0</td>\n",
       "    </tr>\n",
       "    <tr>\n",
       "      <th>1</th>\n",
       "      <td>1213</td>\n",
       "      <td>28</td>\n",
       "      <td>Private Sector/Self Employed</td>\n",
       "      <td>Yes</td>\n",
       "      <td>1100000</td>\n",
       "      <td>4</td>\n",
       "      <td>1</td>\n",
       "      <td>Yes</td>\n",
       "      <td>No</td>\n",
       "      <td>0</td>\n",
       "    </tr>\n",
       "    <tr>\n",
       "      <th>2</th>\n",
       "      <td>1138</td>\n",
       "      <td>27</td>\n",
       "      <td>Government Sector</td>\n",
       "      <td>Yes</td>\n",
       "      <td>500000</td>\n",
       "      <td>4</td>\n",
       "      <td>0</td>\n",
       "      <td>No</td>\n",
       "      <td>No</td>\n",
       "      <td>0</td>\n",
       "    </tr>\n",
       "    <tr>\n",
       "      <th>3</th>\n",
       "      <td>1329</td>\n",
       "      <td>28</td>\n",
       "      <td>Private Sector/Self Employed</td>\n",
       "      <td>Yes</td>\n",
       "      <td>550000</td>\n",
       "      <td>4</td>\n",
       "      <td>0</td>\n",
       "      <td>Yes</td>\n",
       "      <td>No</td>\n",
       "      <td>0</td>\n",
       "    </tr>\n",
       "    <tr>\n",
       "      <th>4</th>\n",
       "      <td>1446</td>\n",
       "      <td>33</td>\n",
       "      <td>Private Sector/Self Employed</td>\n",
       "      <td>Yes</td>\n",
       "      <td>550000</td>\n",
       "      <td>7</td>\n",
       "      <td>1</td>\n",
       "      <td>Yes</td>\n",
       "      <td>No</td>\n",
       "      <td>1</td>\n",
       "    </tr>\n",
       "  </tbody>\n",
       "</table>\n",
       "</div>"
      ],
      "text/plain": [
       "     id  Age               Employment Type GraduateOrNot  AnnualIncome  \\\n",
       "0  1144   33             Government Sector           Yes        800000   \n",
       "1  1213   28  Private Sector/Self Employed           Yes       1100000   \n",
       "2  1138   27             Government Sector           Yes        500000   \n",
       "3  1329   28  Private Sector/Self Employed           Yes        550000   \n",
       "4  1446   33  Private Sector/Self Employed           Yes        550000   \n",
       "\n",
       "   FamilyMembers  ChronicDiseases FrequentFlyer EverTravelledAbroad  \\\n",
       "0              5                1            No                  No   \n",
       "1              4                1           Yes                  No   \n",
       "2              4                0            No                  No   \n",
       "3              4                0           Yes                  No   \n",
       "4              7                1           Yes                  No   \n",
       "\n",
       "   TravelInsurance  \n",
       "0                0  \n",
       "1                0  \n",
       "2                0  \n",
       "3                0  \n",
       "4                1  "
      ]
     },
     "execution_count": 5,
     "metadata": {},
     "output_type": "execute_result"
    }
   ],
   "source": [
    "train.head()"
   ]
  },
  {
   "cell_type": "code",
   "execution_count": 6,
   "id": "e685830e",
   "metadata": {
    "execution": {
     "iopub.execute_input": "2021-10-08T09:25:56.856897Z",
     "iopub.status.busy": "2021-10-08T09:25:56.851428Z",
     "iopub.status.idle": "2021-10-08T09:25:57.309919Z",
     "shell.execute_reply": "2021-10-08T09:25:57.310401Z",
     "shell.execute_reply.started": "2021-10-08T09:22:07.881569Z"
    },
    "papermill": {
     "duration": 0.483256,
     "end_time": "2021-10-08T09:25:57.310578",
     "exception": false,
     "start_time": "2021-10-08T09:25:56.827322",
     "status": "completed"
    },
    "tags": []
   },
   "outputs": [
    {
     "data": {
      "text/plain": [
       "<AxesSubplot:>"
      ]
     },
     "execution_count": 6,
     "metadata": {},
     "output_type": "execute_result"
    },
    {
     "data": {
      "image/png": "[encoded data removed]",
      "text/plain": [
       "<Figure size 864x576 with 2 Axes>"
      ]
     },
     "metadata": {
      "needs_background": "light"
     },
     "output_type": "display_data"
    }
   ],
   "source": [
    "plt.figure(figsize=(12, 8))\n",
    "sns.heatmap(train.corr(), annot=True)"
   ]
  },
  {
   "cell_type": "code",
   "execution_count": 7,
   "id": "63b88c83",
   "metadata": {
    "execution": {
     "iopub.execute_input": "2021-10-08T09:25:57.381793Z",
     "iopub.status.busy": "2021-10-08T09:25:57.381157Z",
     "iopub.status.idle": "2021-10-08T09:25:57.385216Z",
     "shell.execute_reply": "2021-10-08T09:25:57.384597Z",
     "shell.execute_reply.started": "2021-10-08T09:22:08.484158Z"
    },
    "papermill": {
     "duration": 0.048342,
     "end_time": "2021-10-08T09:25:57.385362",
     "exception": false,
     "start_time": "2021-10-08T09:25:57.337020",
     "status": "completed"
    },
    "tags": []
   },
   "outputs": [
    {
     "data": {
      "text/plain": [
       "0    1014\n",
       "1     576\n",
       "Name: TravelInsurance, dtype: int64"
      ]
     },
     "execution_count": 7,
     "metadata": {},
     "output_type": "execute_result"
    }
   ],
   "source": [
    "train.TravelInsurance.value_counts()"
   ]
  },
  {
   "cell_type": "code",
   "execution_count": 8,
   "id": "cc200a5d",
   "metadata": {
    "execution": {
     "iopub.execute_input": "2021-10-08T09:25:57.440762Z",
     "iopub.status.busy": "2021-10-08T09:25:57.439836Z",
     "iopub.status.idle": "2021-10-08T09:25:57.442629Z",
     "shell.execute_reply": "2021-10-08T09:25:57.443073Z",
     "shell.execute_reply.started": "2021-10-08T09:22:08.503399Z"
    },
    "papermill": {
     "duration": 0.034348,
     "end_time": "2021-10-08T09:25:57.443225",
     "exception": false,
     "start_time": "2021-10-08T09:25:57.408877",
     "status": "completed"
    },
    "tags": []
   },
   "outputs": [
    {
     "data": {
      "text/plain": [
       "Private Sector/Self Employed    1130\n",
       "Government Sector                460\n",
       "Name: Employment Type, dtype: int64"
      ]
     },
     "execution_count": 8,
     "metadata": {},
     "output_type": "execute_result"
    }
   ],
   "source": [
    "train['Employment Type'].value_counts()"
   ]
  },
  {
   "cell_type": "code",
   "execution_count": 9,
   "id": "ffc87218",
   "metadata": {
    "execution": {
     "iopub.execute_input": "2021-10-08T09:25:57.512793Z",
     "iopub.status.busy": "2021-10-08T09:25:57.512140Z",
     "iopub.status.idle": "2021-10-08T09:25:57.659040Z",
     "shell.execute_reply": "2021-10-08T09:25:57.659461Z",
     "shell.execute_reply.started": "2021-10-08T09:22:08.514637Z"
    },
    "papermill": {
     "duration": 0.190503,
     "end_time": "2021-10-08T09:25:57.659643",
     "exception": false,
     "start_time": "2021-10-08T09:25:57.469140",
     "status": "completed"
    },
    "tags": []
   },
   "outputs": [
    {
     "data": {
      "image/png": "[encoded data removed]",
      "text/plain": [
       "<Figure size 864x576 with 1 Axes>"
      ]
     },
     "metadata": {
      "needs_background": "light"
     },
     "output_type": "display_data"
    }
   ],
   "source": [
    "plt.figure(figsize=(12, 8))\n",
    "plt.hist(train.AnnualIncome)\n",
    "plt.xlabel(\"Income\")\n",
    "plt.ylabel(\"Frequency\")\n",
    "plt.title(\"Distribution of annual income\")\n",
    "plt.show()"
   ]
  },
  {
   "cell_type": "code",
   "execution_count": 10,
   "id": "01e4684f",
   "metadata": {
    "execution": {
     "iopub.execute_input": "2021-10-08T09:25:57.712965Z",
     "iopub.status.busy": "2021-10-08T09:25:57.712301Z",
     "iopub.status.idle": "2021-10-08T09:25:57.716259Z",
     "shell.execute_reply": "2021-10-08T09:25:57.717191Z",
     "shell.execute_reply.started": "2021-10-08T09:22:08.876112Z"
    },
    "papermill": {
     "duration": 0.032335,
     "end_time": "2021-10-08T09:25:57.717429",
     "exception": false,
     "start_time": "2021-10-08T09:25:57.685094",
     "status": "completed"
    },
    "tags": []
   },
   "outputs": [
    {
     "name": "stdout",
     "output_type": "stream",
     "text": [
      "Variance in annual income before transformation: 139493198127.06006\n"
     ]
    }
   ],
   "source": [
    "print(f\"Variance in annual income before transformation: {train.AnnualIncome.var()}\")"
   ]
  },
  {
   "cell_type": "code",
   "execution_count": 11,
   "id": "61c564e5",
   "metadata": {
    "execution": {
     "iopub.execute_input": "2021-10-08T09:25:57.771390Z",
     "iopub.status.busy": "2021-10-08T09:25:57.770785Z",
     "iopub.status.idle": "2021-10-08T09:25:57.783953Z",
     "shell.execute_reply": "2021-10-08T09:25:57.784387Z",
     "shell.execute_reply.started": "2021-10-08T09:22:09.206346Z"
    },
    "papermill": {
     "duration": 0.041259,
     "end_time": "2021-10-08T09:25:57.784561",
     "exception": false,
     "start_time": "2021-10-08T09:25:57.743302",
     "status": "completed"
    },
    "tags": []
   },
   "outputs": [
    {
     "name": "stdout",
     "output_type": "stream",
     "text": [
      "<class 'pandas.core.frame.DataFrame'>\n",
      "RangeIndex: 1590 entries, 0 to 1589\n",
      "Data columns (total 10 columns):\n",
      " #   Column               Non-Null Count  Dtype \n",
      "---  ------               --------------  ----- \n",
      " 0   id                   1590 non-null   int64 \n",
      " 1   Age                  1590 non-null   int64 \n",
      " 2   Employment Type      1590 non-null   object\n",
      " 3   GraduateOrNot        1590 non-null   object\n",
      " 4   AnnualIncome         1590 non-null   int64 \n",
      " 5   FamilyMembers        1590 non-null   int64 \n",
      " 6   ChronicDiseases      1590 non-null   int64 \n",
      " 7   FrequentFlyer        1590 non-null   object\n",
      " 8   EverTravelledAbroad  1590 non-null   object\n",
      " 9   TravelInsurance      1590 non-null   int64 \n",
      "dtypes: int64(6), object(4)\n",
      "memory usage: 124.3+ KB\n"
     ]
    }
   ],
   "source": [
    "train.info()"
   ]
  },
  {
   "cell_type": "code",
   "execution_count": 12,
   "id": "6d370c4a",
   "metadata": {
    "execution": {
     "iopub.execute_input": "2021-10-08T09:25:57.841959Z",
     "iopub.status.busy": "2021-10-08T09:25:57.841096Z",
     "iopub.status.idle": "2021-10-08T09:25:57.847855Z",
     "shell.execute_reply": "2021-10-08T09:25:57.848294Z",
     "shell.execute_reply.started": "2021-10-08T09:22:09.550145Z"
    },
    "papermill": {
     "duration": 0.038699,
     "end_time": "2021-10-08T09:25:57.848480",
     "exception": false,
     "start_time": "2021-10-08T09:25:57.809781",
     "status": "completed"
    },
    "tags": []
   },
   "outputs": [],
   "source": [
    "def feature_engineering(df, cat_cols):\n",
    "    combi = list(itertools.combinations(cat_cols, 2))\n",
    "    print(f\"Total combinations: {len(combi)}\")\n",
    "    for c1, c2 in combi:\n",
    "        df.loc[:, c1 + \"_\" + c2] = df[c1].astype(str) + \"_\" + df[c2].astype(str)\n",
    "    return df"
   ]
  },
  {
   "cell_type": "markdown",
   "id": "28c498a4",
   "metadata": {
    "papermill": {
     "duration": 0.027435,
     "end_time": "2021-10-08T09:25:57.905678",
     "exception": false,
     "start_time": "2021-10-08T09:25:57.878243",
     "status": "completed"
    },
    "tags": []
   },
   "source": [
    "# Cleaning\n",
    "\n",
    "- LabelEncoder\n",
    "- Using log transformation on AnnualIncome"
   ]
  },
  {
   "cell_type": "code",
   "execution_count": 13,
   "id": "d77d8803",
   "metadata": {
    "execution": {
     "iopub.execute_input": "2021-10-08T09:25:57.970605Z",
     "iopub.status.busy": "2021-10-08T09:25:57.969536Z",
     "iopub.status.idle": "2021-10-08T09:25:58.016011Z",
     "shell.execute_reply": "2021-10-08T09:25:58.016460Z",
     "shell.execute_reply.started": "2021-10-08T09:22:10.502679Z"
    },
    "papermill": {
     "duration": 0.083501,
     "end_time": "2021-10-08T09:25:58.016646",
     "exception": false,
     "start_time": "2021-10-08T09:25:57.933145",
     "status": "completed"
    },
    "tags": []
   },
   "outputs": [
    {
     "name": "stdout",
     "output_type": "stream",
     "text": [
      "Total combinations: 10\n"
     ]
    }
   ],
   "source": [
    "test.loc[:, \"TravelInsurance\"] = -1\n",
    "\n",
    "data = pd.concat([train, test]).reset_index(drop=True)\n",
    "\n",
    "# use log transformation on annualincome\n",
    "data['AnnualIncome'] = data['AnnualIncome'].apply(lambda x: np.log(1 + x))\n",
    "\n",
    "# add features using feature engineering function\n",
    "num_cols = [\"Age\", \"AnnualIncome\", \"FamilyMembers\"]\n",
    "cat_cols = [c for c in data.columns if c not in num_cols and c not in (\"id\", \"TravelInsurance\")]\n",
    "data = feature_engineering(data, cat_cols)\n",
    "\n",
    "# data.head()\n",
    "\n",
    "features_to_encode = [c for c in data.columns if c not in num_cols and c not in (\"id\", \"TravelInsurance\")]\n",
    "\n",
    "for feature in features_to_encode:\n",
    "    encoder = preprocessing.LabelEncoder()\n",
    "    temp_col = data[feature].values\n",
    "    data.loc[:, feature] = encoder.fit_transform(temp_col)\n",
    "    \n",
    "train = data[data.TravelInsurance != -1].reset_index(drop=True)\n",
    "test = data[data.TravelInsurance == -1].reset_index(drop=True)\n",
    "test = test.drop(['TravelInsurance'], axis=1)"
   ]
  },
  {
   "cell_type": "code",
   "execution_count": 14,
   "id": "2aab30b6",
   "metadata": {
    "execution": {
     "iopub.execute_input": "2021-10-08T09:25:58.070770Z",
     "iopub.status.busy": "2021-10-08T09:25:58.069838Z",
     "iopub.status.idle": "2021-10-08T09:25:58.084563Z",
     "shell.execute_reply": "2021-10-08T09:25:58.085034Z",
     "shell.execute_reply.started": "2021-10-08T09:22:10.910511Z"
    },
    "papermill": {
     "duration": 0.043447,
     "end_time": "2021-10-08T09:25:58.085206",
     "exception": false,
     "start_time": "2021-10-08T09:25:58.041759",
     "status": "completed"
    },
    "tags": []
   },
   "outputs": [
    {
     "data": {
      "text/html": [
       "<div>\n",
       "<style scoped>\n",
       "    .dataframe tbody tr th:only-of-type {\n",
       "        vertical-align: middle;\n",
       "    }\n",
       "\n",
       "    .dataframe tbody tr th {\n",
       "        vertical-align: top;\n",
       "    }\n",
       "\n",
       "    .dataframe thead th {\n",
       "        text-align: right;\n",
       "    }\n",
       "</style>\n",
       "<table border=\"1\" class=\"dataframe\">\n",
       "  <thead>\n",
       "    <tr style=\"text-align: right;\">\n",
       "      <th></th>\n",
       "      <th>id</th>\n",
       "      <th>Age</th>\n",
       "      <th>Employment Type</th>\n",
       "      <th>GraduateOrNot</th>\n",
       "      <th>AnnualIncome</th>\n",
       "      <th>FamilyMembers</th>\n",
       "      <th>ChronicDiseases</th>\n",
       "      <th>FrequentFlyer</th>\n",
       "      <th>EverTravelledAbroad</th>\n",
       "      <th>TravelInsurance</th>\n",
       "      <th>Employment Type_GraduateOrNot</th>\n",
       "      <th>Employment Type_ChronicDiseases</th>\n",
       "      <th>Employment Type_FrequentFlyer</th>\n",
       "      <th>Employment Type_EverTravelledAbroad</th>\n",
       "      <th>GraduateOrNot_ChronicDiseases</th>\n",
       "      <th>GraduateOrNot_FrequentFlyer</th>\n",
       "      <th>GraduateOrNot_EverTravelledAbroad</th>\n",
       "      <th>ChronicDiseases_FrequentFlyer</th>\n",
       "      <th>ChronicDiseases_EverTravelledAbroad</th>\n",
       "      <th>FrequentFlyer_EverTravelledAbroad</th>\n",
       "    </tr>\n",
       "  </thead>\n",
       "  <tbody>\n",
       "    <tr>\n",
       "      <th>0</th>\n",
       "      <td>1144</td>\n",
       "      <td>33</td>\n",
       "      <td>0</td>\n",
       "      <td>1</td>\n",
       "      <td>13.592368</td>\n",
       "      <td>5</td>\n",
       "      <td>1</td>\n",
       "      <td>0</td>\n",
       "      <td>0</td>\n",
       "      <td>0</td>\n",
       "      <td>1</td>\n",
       "      <td>1</td>\n",
       "      <td>0</td>\n",
       "      <td>0</td>\n",
       "      <td>3</td>\n",
       "      <td>2</td>\n",
       "      <td>2</td>\n",
       "      <td>2</td>\n",
       "      <td>2</td>\n",
       "      <td>0</td>\n",
       "    </tr>\n",
       "    <tr>\n",
       "      <th>1</th>\n",
       "      <td>1213</td>\n",
       "      <td>28</td>\n",
       "      <td>1</td>\n",
       "      <td>1</td>\n",
       "      <td>13.910822</td>\n",
       "      <td>4</td>\n",
       "      <td>1</td>\n",
       "      <td>1</td>\n",
       "      <td>0</td>\n",
       "      <td>0</td>\n",
       "      <td>3</td>\n",
       "      <td>3</td>\n",
       "      <td>3</td>\n",
       "      <td>2</td>\n",
       "      <td>3</td>\n",
       "      <td>3</td>\n",
       "      <td>2</td>\n",
       "      <td>3</td>\n",
       "      <td>2</td>\n",
       "      <td>2</td>\n",
       "    </tr>\n",
       "    <tr>\n",
       "      <th>2</th>\n",
       "      <td>1138</td>\n",
       "      <td>27</td>\n",
       "      <td>0</td>\n",
       "      <td>1</td>\n",
       "      <td>13.122365</td>\n",
       "      <td>4</td>\n",
       "      <td>0</td>\n",
       "      <td>0</td>\n",
       "      <td>0</td>\n",
       "      <td>0</td>\n",
       "      <td>1</td>\n",
       "      <td>0</td>\n",
       "      <td>0</td>\n",
       "      <td>0</td>\n",
       "      <td>2</td>\n",
       "      <td>2</td>\n",
       "      <td>2</td>\n",
       "      <td>0</td>\n",
       "      <td>0</td>\n",
       "      <td>0</td>\n",
       "    </tr>\n",
       "    <tr>\n",
       "      <th>3</th>\n",
       "      <td>1329</td>\n",
       "      <td>28</td>\n",
       "      <td>1</td>\n",
       "      <td>1</td>\n",
       "      <td>13.217675</td>\n",
       "      <td>4</td>\n",
       "      <td>0</td>\n",
       "      <td>1</td>\n",
       "      <td>0</td>\n",
       "      <td>0</td>\n",
       "      <td>3</td>\n",
       "      <td>2</td>\n",
       "      <td>3</td>\n",
       "      <td>2</td>\n",
       "      <td>2</td>\n",
       "      <td>3</td>\n",
       "      <td>2</td>\n",
       "      <td>1</td>\n",
       "      <td>0</td>\n",
       "      <td>2</td>\n",
       "    </tr>\n",
       "    <tr>\n",
       "      <th>4</th>\n",
       "      <td>1446</td>\n",
       "      <td>33</td>\n",
       "      <td>1</td>\n",
       "      <td>1</td>\n",
       "      <td>13.217675</td>\n",
       "      <td>7</td>\n",
       "      <td>1</td>\n",
       "      <td>1</td>\n",
       "      <td>0</td>\n",
       "      <td>1</td>\n",
       "      <td>3</td>\n",
       "      <td>3</td>\n",
       "      <td>3</td>\n",
       "      <td>2</td>\n",
       "      <td>3</td>\n",
       "      <td>3</td>\n",
       "      <td>2</td>\n",
       "      <td>3</td>\n",
       "      <td>2</td>\n",
       "      <td>2</td>\n",
       "    </tr>\n",
       "  </tbody>\n",
       "</table>\n",
       "</div>"
      ],
      "text/plain": [
       "     id  Age  Employment Type  GraduateOrNot  AnnualIncome  FamilyMembers  \\\n",
       "0  1144   33                0              1     13.592368              5   \n",
       "1  1213   28                1              1     13.910822              4   \n",
       "2  1138   27                0              1     13.122365              4   \n",
       "3  1329   28                1              1     13.217675              4   \n",
       "4  1446   33                1              1     13.217675              7   \n",
       "\n",
       "   ChronicDiseases  FrequentFlyer  EverTravelledAbroad  TravelInsurance  \\\n",
       "0                1              0                    0                0   \n",
       "1                1              1                    0                0   \n",
       "2                0              0                    0                0   \n",
       "3                0              1                    0                0   \n",
       "4                1              1                    0                1   \n",
       "\n",
       "   Employment Type_GraduateOrNot  Employment Type_ChronicDiseases  \\\n",
       "0                              1                                1   \n",
       "1                              3                                3   \n",
       "2                              1                                0   \n",
       "3                              3                                2   \n",
       "4                              3                                3   \n",
       "\n",
       "   Employment Type_FrequentFlyer  Employment Type_EverTravelledAbroad  \\\n",
       "0                              0                                    0   \n",
       "1                              3                                    2   \n",
       "2                              0                                    0   \n",
       "3                              3                                    2   \n",
       "4                              3                                    2   \n",
       "\n",
       "   GraduateOrNot_ChronicDiseases  GraduateOrNot_FrequentFlyer  \\\n",
       "0                              3                            2   \n",
       "1                              3                            3   \n",
       "2                              2                            2   \n",
       "3                              2                            3   \n",
       "4                              3                            3   \n",
       "\n",
       "   GraduateOrNot_EverTravelledAbroad  ChronicDiseases_FrequentFlyer  \\\n",
       "0                                  2                              2   \n",
       "1                                  2                              3   \n",
       "2                                  2                              0   \n",
       "3                                  2                              1   \n",
       "4                                  2                              3   \n",
       "\n",
       "   ChronicDiseases_EverTravelledAbroad  FrequentFlyer_EverTravelledAbroad  \n",
       "0                                    2                                  0  \n",
       "1                                    2                                  2  \n",
       "2                                    0                                  0  \n",
       "3                                    0                                  2  \n",
       "4                                    2                                  2  "
      ]
     },
     "execution_count": 14,
     "metadata": {},
     "output_type": "execute_result"
    }
   ],
   "source": [
    "train.head()"
   ]
  },
  {
   "cell_type": "code",
   "execution_count": 15,
   "id": "035908f4",
   "metadata": {
    "execution": {
     "iopub.execute_input": "2021-10-08T09:25:58.139479Z",
     "iopub.status.busy": "2021-10-08T09:25:58.138921Z",
     "iopub.status.idle": "2021-10-08T09:25:58.144028Z",
     "shell.execute_reply": "2021-10-08T09:25:58.144471Z",
     "shell.execute_reply.started": "2021-10-08T09:22:11.276326Z"
    },
    "papermill": {
     "duration": 0.034092,
     "end_time": "2021-10-08T09:25:58.144627",
     "exception": false,
     "start_time": "2021-10-08T09:25:58.110535",
     "status": "completed"
    },
    "tags": []
   },
   "outputs": [
    {
     "data": {
      "text/plain": [
       "Index(['id', 'Age', 'Employment Type', 'GraduateOrNot', 'AnnualIncome',\n",
       "       'FamilyMembers', 'ChronicDiseases', 'FrequentFlyer',\n",
       "       'EverTravelledAbroad', 'TravelInsurance',\n",
       "       'Employment Type_GraduateOrNot', 'Employment Type_ChronicDiseases',\n",
       "       'Employment Type_FrequentFlyer', 'Employment Type_EverTravelledAbroad',\n",
       "       'GraduateOrNot_ChronicDiseases', 'GraduateOrNot_FrequentFlyer',\n",
       "       'GraduateOrNot_EverTravelledAbroad', 'ChronicDiseases_FrequentFlyer',\n",
       "       'ChronicDiseases_EverTravelledAbroad',\n",
       "       'FrequentFlyer_EverTravelledAbroad'],\n",
       "      dtype='object')"
      ]
     },
     "execution_count": 15,
     "metadata": {},
     "output_type": "execute_result"
    }
   ],
   "source": [
    "train.columns"
   ]
  },
  {
   "cell_type": "code",
   "execution_count": 16,
   "id": "7ea9cb0c",
   "metadata": {
    "execution": {
     "iopub.execute_input": "2021-10-08T09:25:58.200975Z",
     "iopub.status.busy": "2021-10-08T09:25:58.200402Z",
     "iopub.status.idle": "2021-10-08T09:25:58.206406Z",
     "shell.execute_reply": "2021-10-08T09:25:58.205961Z",
     "shell.execute_reply.started": "2021-10-08T09:22:11.590361Z"
    },
    "papermill": {
     "duration": 0.035341,
     "end_time": "2021-10-08T09:25:58.206532",
     "exception": false,
     "start_time": "2021-10-08T09:25:58.171191",
     "status": "completed"
    },
    "tags": []
   },
   "outputs": [
    {
     "data": {
      "text/plain": [
       "0    1014\n",
       "1     576\n",
       "Name: TravelInsurance, dtype: int64"
      ]
     },
     "execution_count": 16,
     "metadata": {},
     "output_type": "execute_result"
    }
   ],
   "source": [
    "train.TravelInsurance.value_counts()"
   ]
  },
  {
   "cell_type": "code",
   "execution_count": 17,
   "id": "9675bac7",
   "metadata": {
    "execution": {
     "iopub.execute_input": "2021-10-08T09:25:58.274009Z",
     "iopub.status.busy": "2021-10-08T09:25:58.273079Z",
     "iopub.status.idle": "2021-10-08T09:25:58.276665Z",
     "shell.execute_reply": "2021-10-08T09:25:58.277202Z",
     "shell.execute_reply.started": "2021-10-08T09:22:12.351333Z"
    },
    "papermill": {
     "duration": 0.044749,
     "end_time": "2021-10-08T09:25:58.277372",
     "exception": false,
     "start_time": "2021-10-08T09:25:58.232623",
     "status": "completed"
    },
    "tags": []
   },
   "outputs": [
    {
     "data": {
      "text/html": [
       "<div>\n",
       "<style scoped>\n",
       "    .dataframe tbody tr th:only-of-type {\n",
       "        vertical-align: middle;\n",
       "    }\n",
       "\n",
       "    .dataframe tbody tr th {\n",
       "        vertical-align: top;\n",
       "    }\n",
       "\n",
       "    .dataframe thead th {\n",
       "        text-align: right;\n",
       "    }\n",
       "</style>\n",
       "<table border=\"1\" class=\"dataframe\">\n",
       "  <thead>\n",
       "    <tr style=\"text-align: right;\">\n",
       "      <th></th>\n",
       "      <th>id</th>\n",
       "      <th>Age</th>\n",
       "      <th>Employment Type</th>\n",
       "      <th>GraduateOrNot</th>\n",
       "      <th>AnnualIncome</th>\n",
       "      <th>FamilyMembers</th>\n",
       "      <th>ChronicDiseases</th>\n",
       "      <th>FrequentFlyer</th>\n",
       "      <th>EverTravelledAbroad</th>\n",
       "      <th>Employment Type_GraduateOrNot</th>\n",
       "      <th>Employment Type_ChronicDiseases</th>\n",
       "      <th>Employment Type_FrequentFlyer</th>\n",
       "      <th>Employment Type_EverTravelledAbroad</th>\n",
       "      <th>GraduateOrNot_ChronicDiseases</th>\n",
       "      <th>GraduateOrNot_FrequentFlyer</th>\n",
       "      <th>GraduateOrNot_EverTravelledAbroad</th>\n",
       "      <th>ChronicDiseases_FrequentFlyer</th>\n",
       "      <th>ChronicDiseases_EverTravelledAbroad</th>\n",
       "      <th>FrequentFlyer_EverTravelledAbroad</th>\n",
       "    </tr>\n",
       "  </thead>\n",
       "  <tbody>\n",
       "    <tr>\n",
       "      <th>0</th>\n",
       "      <td>0</td>\n",
       "      <td>27</td>\n",
       "      <td>0</td>\n",
       "      <td>1</td>\n",
       "      <td>13.122365</td>\n",
       "      <td>5</td>\n",
       "      <td>0</td>\n",
       "      <td>0</td>\n",
       "      <td>0</td>\n",
       "      <td>1</td>\n",
       "      <td>0</td>\n",
       "      <td>0</td>\n",
       "      <td>0</td>\n",
       "      <td>2</td>\n",
       "      <td>2</td>\n",
       "      <td>2</td>\n",
       "      <td>0</td>\n",
       "      <td>0</td>\n",
       "      <td>0</td>\n",
       "    </tr>\n",
       "    <tr>\n",
       "      <th>1</th>\n",
       "      <td>9</td>\n",
       "      <td>34</td>\n",
       "      <td>1</td>\n",
       "      <td>1</td>\n",
       "      <td>13.864302</td>\n",
       "      <td>4</td>\n",
       "      <td>0</td>\n",
       "      <td>0</td>\n",
       "      <td>0</td>\n",
       "      <td>3</td>\n",
       "      <td>2</td>\n",
       "      <td>2</td>\n",
       "      <td>2</td>\n",
       "      <td>2</td>\n",
       "      <td>2</td>\n",
       "      <td>2</td>\n",
       "      <td>0</td>\n",
       "      <td>0</td>\n",
       "      <td>0</td>\n",
       "    </tr>\n",
       "    <tr>\n",
       "      <th>2</th>\n",
       "      <td>14</td>\n",
       "      <td>29</td>\n",
       "      <td>1</td>\n",
       "      <td>1</td>\n",
       "      <td>13.997833</td>\n",
       "      <td>4</td>\n",
       "      <td>0</td>\n",
       "      <td>0</td>\n",
       "      <td>0</td>\n",
       "      <td>3</td>\n",
       "      <td>2</td>\n",
       "      <td>2</td>\n",
       "      <td>2</td>\n",
       "      <td>2</td>\n",
       "      <td>2</td>\n",
       "      <td>2</td>\n",
       "      <td>0</td>\n",
       "      <td>0</td>\n",
       "      <td>0</td>\n",
       "    </tr>\n",
       "    <tr>\n",
       "      <th>3</th>\n",
       "      <td>31</td>\n",
       "      <td>25</td>\n",
       "      <td>1</td>\n",
       "      <td>1</td>\n",
       "      <td>14.151984</td>\n",
       "      <td>7</td>\n",
       "      <td>0</td>\n",
       "      <td>0</td>\n",
       "      <td>1</td>\n",
       "      <td>3</td>\n",
       "      <td>2</td>\n",
       "      <td>2</td>\n",
       "      <td>3</td>\n",
       "      <td>2</td>\n",
       "      <td>2</td>\n",
       "      <td>3</td>\n",
       "      <td>0</td>\n",
       "      <td>1</td>\n",
       "      <td>1</td>\n",
       "    </tr>\n",
       "    <tr>\n",
       "      <th>4</th>\n",
       "      <td>41</td>\n",
       "      <td>31</td>\n",
       "      <td>1</td>\n",
       "      <td>1</td>\n",
       "      <td>14.151984</td>\n",
       "      <td>6</td>\n",
       "      <td>0</td>\n",
       "      <td>0</td>\n",
       "      <td>1</td>\n",
       "      <td>3</td>\n",
       "      <td>2</td>\n",
       "      <td>2</td>\n",
       "      <td>3</td>\n",
       "      <td>2</td>\n",
       "      <td>2</td>\n",
       "      <td>3</td>\n",
       "      <td>0</td>\n",
       "      <td>1</td>\n",
       "      <td>1</td>\n",
       "    </tr>\n",
       "  </tbody>\n",
       "</table>\n",
       "</div>"
      ],
      "text/plain": [
       "   id  Age  Employment Type  GraduateOrNot  AnnualIncome  FamilyMembers  \\\n",
       "0   0   27                0              1     13.122365              5   \n",
       "1   9   34                1              1     13.864302              4   \n",
       "2  14   29                1              1     13.997833              4   \n",
       "3  31   25                1              1     14.151984              7   \n",
       "4  41   31                1              1     14.151984              6   \n",
       "\n",
       "   ChronicDiseases  FrequentFlyer  EverTravelledAbroad  \\\n",
       "0                0              0                    0   \n",
       "1                0              0                    0   \n",
       "2                0              0                    0   \n",
       "3                0              0                    1   \n",
       "4                0              0                    1   \n",
       "\n",
       "   Employment Type_GraduateOrNot  Employment Type_ChronicDiseases  \\\n",
       "0                              1                                0   \n",
       "1                              3                                2   \n",
       "2                              3                                2   \n",
       "3                              3                                2   \n",
       "4                              3                                2   \n",
       "\n",
       "   Employment Type_FrequentFlyer  Employment Type_EverTravelledAbroad  \\\n",
       "0                              0                                    0   \n",
       "1                              2                                    2   \n",
       "2                              2                                    2   \n",
       "3                              2                                    3   \n",
       "4                              2                                    3   \n",
       "\n",
       "   GraduateOrNot_ChronicDiseases  GraduateOrNot_FrequentFlyer  \\\n",
       "0                              2                            2   \n",
       "1                              2                            2   \n",
       "2                              2                            2   \n",
       "3                              2                            2   \n",
       "4                              2                            2   \n",
       "\n",
       "   GraduateOrNot_EverTravelledAbroad  ChronicDiseases_FrequentFlyer  \\\n",
       "0                                  2                              0   \n",
       "1                                  2                              0   \n",
       "2                                  2                              0   \n",
       "3                                  3                              0   \n",
       "4                                  3                              0   \n",
       "\n",
       "   ChronicDiseases_EverTravelledAbroad  FrequentFlyer_EverTravelledAbroad  \n",
       "0                                    0                                  0  \n",
       "1                                    0                                  0  \n",
       "2                                    0                                  0  \n",
       "3                                    1                                  1  \n",
       "4                                    1                                  1  "
      ]
     },
     "execution_count": 17,
     "metadata": {},
     "output_type": "execute_result"
    }
   ],
   "source": [
    "test.head()"
   ]
  },
  {
   "cell_type": "code",
   "execution_count": 18,
   "id": "a4620314",
   "metadata": {
    "execution": {
     "iopub.execute_input": "2021-10-08T09:25:58.334213Z",
     "iopub.status.busy": "2021-10-08T09:25:58.333605Z",
     "iopub.status.idle": "2021-10-08T09:25:58.505992Z",
     "shell.execute_reply": "2021-10-08T09:25:58.505420Z",
     "shell.execute_reply.started": "2021-10-08T09:22:13.094897Z"
    },
    "papermill": {
     "duration": 0.202092,
     "end_time": "2021-10-08T09:25:58.506125",
     "exception": false,
     "start_time": "2021-10-08T09:25:58.304033",
     "status": "completed"
    },
    "tags": []
   },
   "outputs": [
    {
     "data": {
      "image/png": "[encoded data removed]",
      "text/plain": [
       "<Figure size 864x576 with 1 Axes>"
      ]
     },
     "metadata": {
      "needs_background": "light"
     },
     "output_type": "display_data"
    }
   ],
   "source": [
    "plt.figure(figsize=(12, 8))\n",
    "plt.hist(train.AnnualIncome)\n",
    "plt.xlabel(\"Income\")\n",
    "plt.ylabel(\"Frequency\")\n",
    "plt.title(\"Distribution of annual income after transformation\")\n",
    "plt.show()"
   ]
  },
  {
   "cell_type": "code",
   "execution_count": 19,
   "id": "afa9f6f9",
   "metadata": {
    "execution": {
     "iopub.execute_input": "2021-10-08T09:25:58.566433Z",
     "iopub.status.busy": "2021-10-08T09:25:58.565826Z",
     "iopub.status.idle": "2021-10-08T09:25:58.568332Z",
     "shell.execute_reply": "2021-10-08T09:25:58.568807Z",
     "shell.execute_reply.started": "2021-10-08T09:22:13.948167Z"
    },
    "papermill": {
     "duration": 0.035391,
     "end_time": "2021-10-08T09:25:58.568976",
     "exception": false,
     "start_time": "2021-10-08T09:25:58.533585",
     "status": "completed"
    },
    "tags": []
   },
   "outputs": [
    {
     "name": "stdout",
     "output_type": "stream",
     "text": [
      "Variance in annual income after log transformation: 0.20743466019423776\n"
     ]
    }
   ],
   "source": [
    "print(f\"Variance in annual income after log transformation: {train.AnnualIncome.var()}\")"
   ]
  },
  {
   "cell_type": "markdown",
   "id": "a4b43e86",
   "metadata": {
    "papermill": {
     "duration": 0.027493,
     "end_time": "2021-10-08T09:25:58.624807",
     "exception": false,
     "start_time": "2021-10-08T09:25:58.597314",
     "status": "completed"
    },
    "tags": []
   },
   "source": [
    "# Create folds"
   ]
  },
  {
   "cell_type": "code",
   "execution_count": 20,
   "id": "5893d564",
   "metadata": {
    "execution": {
     "iopub.execute_input": "2021-10-08T09:25:58.686998Z",
     "iopub.status.busy": "2021-10-08T09:25:58.686387Z",
     "iopub.status.idle": "2021-10-08T09:25:58.689083Z",
     "shell.execute_reply": "2021-10-08T09:25:58.689506Z",
     "shell.execute_reply.started": "2021-10-08T09:22:15.482361Z"
    },
    "papermill": {
     "duration": 0.036665,
     "end_time": "2021-10-08T09:25:58.689672",
     "exception": false,
     "start_time": "2021-10-08T09:25:58.653007",
     "status": "completed"
    },
    "tags": []
   },
   "outputs": [],
   "source": [
    "def create_folds(df):\n",
    "    \n",
    "    df['kfold'] = -1\n",
    "    \n",
    "    df = df.sample(frac=1).reset_index(drop=True)\n",
    "    \n",
    "    y = df.TravelInsurance.values\n",
    "    \n",
    "    skf = model_selection.StratifiedKFold(config.NUM_FOLDS)\n",
    "    \n",
    "    for f, (t_, v_) in enumerate(skf.split(X=df, y=y)):\n",
    "        df.loc[v_, 'kfold'] = f\n",
    "    \n",
    "    return df"
   ]
  },
  {
   "cell_type": "code",
   "execution_count": 21,
   "id": "3d4e83d2",
   "metadata": {
    "execution": {
     "iopub.execute_input": "2021-10-08T09:25:58.755728Z",
     "iopub.status.busy": "2021-10-08T09:25:58.755008Z",
     "iopub.status.idle": "2021-10-08T09:25:58.765910Z",
     "shell.execute_reply": "2021-10-08T09:25:58.766406Z",
     "shell.execute_reply.started": "2021-10-08T09:22:15.838366Z"
    },
    "papermill": {
     "duration": 0.04896,
     "end_time": "2021-10-08T09:25:58.766575",
     "exception": false,
     "start_time": "2021-10-08T09:25:58.717615",
     "status": "completed"
    },
    "tags": []
   },
   "outputs": [
    {
     "data": {
      "text/plain": [
       "0    318\n",
       "1    318\n",
       "2    318\n",
       "3    318\n",
       "4    318\n",
       "Name: kfold, dtype: int64"
      ]
     },
     "execution_count": 21,
     "metadata": {},
     "output_type": "execute_result"
    }
   ],
   "source": [
    "train_folds = create_folds(train)\n",
    "train_folds.kfold.value_counts()"
   ]
  },
  {
   "cell_type": "markdown",
   "id": "50b75d08",
   "metadata": {
    "papermill": {
     "duration": 0.028097,
     "end_time": "2021-10-08T09:25:58.822741",
     "exception": false,
     "start_time": "2021-10-08T09:25:58.794644",
     "status": "completed"
    },
    "tags": []
   },
   "source": [
    "# Model dispatcher"
   ]
  },
  {
   "cell_type": "code",
   "execution_count": 22,
   "id": "a4258fca",
   "metadata": {
    "execution": {
     "iopub.execute_input": "2021-10-08T09:25:58.882308Z",
     "iopub.status.busy": "2021-10-08T09:25:58.881685Z",
     "iopub.status.idle": "2021-10-08T09:26:00.299098Z",
     "shell.execute_reply": "2021-10-08T09:26:00.299610Z",
     "shell.execute_reply.started": "2021-10-08T09:22:17.014996Z"
    },
    "papermill": {
     "duration": 1.448992,
     "end_time": "2021-10-08T09:26:00.299813",
     "exception": false,
     "start_time": "2021-10-08T09:25:58.850821",
     "status": "completed"
    },
    "tags": []
   },
   "outputs": [
    {
     "data": {
      "text/html": [
       "<style type='text/css'>\n",
       ".datatable table.frame { margin-bottom: 0; }\n",
       ".datatable table.frame thead { border-bottom: none; }\n",
       ".datatable table.frame tr.coltypes td {  color: #FFFFFF;  line-height: 6px;  padding: 0 0.5em;}\n",
       ".datatable .bool    { background: #DDDD99; }\n",
       ".datatable .object  { background: #565656; }\n",
       ".datatable .int     { background: #5D9E5D; }\n",
       ".datatable .float   { background: #4040CC; }\n",
       ".datatable .str     { background: #CC4040; }\n",
       ".datatable .time    { background: #40CC40; }\n",
       ".datatable .row_index {  background: var(--jp-border-color3);  border-right: 1px solid var(--jp-border-color0);  color: var(--jp-ui-font-color3);  font-size: 9px;}\n",
       ".datatable .frame tbody td { text-align: left; }\n",
       ".datatable .frame tr.coltypes .row_index {  background: var(--jp-border-color0);}\n",
       ".datatable th:nth-child(2) { padding-left: 12px; }\n",
       ".datatable .hellipsis {  color: var(--jp-cell-editor-border-color);}\n",
       ".datatable .vellipsis {  background: var(--jp-layout-color0);  color: var(--jp-cell-editor-border-color);}\n",
       ".datatable .na {  color: var(--jp-cell-editor-border-color);  font-size: 80%;}\n",
       ".datatable .sp {  opacity: 0.25;}\n",
       ".datatable .footer { font-size: 9px; }\n",
       ".datatable .frame_dimensions {  background: var(--jp-border-color3);  border-top: 1px solid var(--jp-border-color0);  color: var(--jp-ui-font-color3);  display: inline-block;  opacity: 0.6;  padding: 1px 10px 1px 5px;}\n",
       "</style>\n"
      ],
      "text/plain": [
       "<IPython.core.display.HTML object>"
      ]
     },
     "metadata": {},
     "output_type": "display_data"
    }
   ],
   "source": [
    "from sklearn import linear_model\n",
    "from sklearn import tree\n",
    "import lightgbm as lgbm\n",
    "import xgboost as xgb\n",
    "import catboost as cb\n",
    "\n",
    "model_dispatcher = {\n",
    "    \"lgbm_model\": lgbm.LGBMClassifier(n_jobs=-1),\n",
    "    \"xgboost_model\": xgb.XGBClassifier(n_jobs=-1),\n",
    "    \"catboost_model\": cb.CatBoostClassifier(verbose=0)\n",
    "}"
   ]
  },
  {
   "cell_type": "markdown",
   "id": "0c53d641",
   "metadata": {
    "papermill": {
     "duration": 0.028145,
     "end_time": "2021-10-08T09:26:00.356594",
     "exception": false,
     "start_time": "2021-10-08T09:26:00.328449",
     "status": "completed"
    },
    "tags": []
   },
   "source": [
    "# Modeling"
   ]
  },
  {
   "cell_type": "code",
   "execution_count": 23,
   "id": "bf61a199",
   "metadata": {
    "execution": {
     "iopub.execute_input": "2021-10-08T09:26:00.417168Z",
     "iopub.status.busy": "2021-10-08T09:26:00.416538Z",
     "iopub.status.idle": "2021-10-08T09:26:00.423242Z",
     "shell.execute_reply": "2021-10-08T09:26:00.423747Z",
     "shell.execute_reply.started": "2021-10-08T09:22:18.174434Z"
    },
    "papermill": {
     "duration": 0.038865,
     "end_time": "2021-10-08T09:26:00.423931",
     "exception": false,
     "start_time": "2021-10-08T09:26:00.385066",
     "status": "completed"
    },
    "tags": []
   },
   "outputs": [],
   "source": [
    "def run(df, fold, model, model_name, save_model=None):\n",
    "    \n",
    "    train_df = df[df.kfold != fold].reset_index(drop=True)\n",
    "    val_df = df[df.kfold == fold].reset_index(drop=True)\n",
    "    \n",
    "    xtrain = train_df.drop(['TravelInsurance', 'id', 'kfold'], axis=1)\n",
    "    xval = val_df.drop(['TravelInsurance', 'id', 'kfold'], axis=1)\n",
    "    \n",
    "    model.fit(xtrain, train_df.TravelInsurance)\n",
    "    \n",
    "    valid_preds = model.predict_proba(xval)[:, 1]\n",
    "    \n",
    "    score =  metrics.roc_auc_score(val_df.TravelInsurance.values, valid_preds)\n",
    "    \n",
    "    if save_model is not None:\n",
    "        if save_model in model_name:\n",
    "            print(f\"Saving {model_name} for fold {fold}\")\n",
    "            joblib.dump(model, f\"{model_name}_{fold}.bin\")\n",
    "    \n",
    "    return score"
   ]
  },
  {
   "cell_type": "code",
   "execution_count": 24,
   "id": "dd2ed965",
   "metadata": {
    "execution": {
     "iopub.execute_input": "2021-10-08T09:26:00.487381Z",
     "iopub.status.busy": "2021-10-08T09:26:00.486661Z",
     "iopub.status.idle": "2021-10-08T09:26:07.743018Z",
     "shell.execute_reply": "2021-10-08T09:26:07.742479Z",
     "shell.execute_reply.started": "2021-10-08T09:22:51.528893Z"
    },
    "papermill": {
     "duration": 7.290259,
     "end_time": "2021-10-08T09:26:07.743169",
     "exception": false,
     "start_time": "2021-10-08T09:26:00.452910",
     "status": "completed"
    },
    "tags": []
   },
   "outputs": [
    {
     "name": "stdout",
     "output_type": "stream",
     "text": [
      "Using lgbm_model\n",
      "Using xgboost_model\n",
      "[09:26:01] WARNING: ../src/learner.cc:1095: Starting in XGBoost 1.3.0, the default evaluation metric used with the objective 'binary:logistic' was changed from 'error' to 'logloss'. Explicitly set eval_metric if you'd like to restore the old behavior.\n",
      "Saving xgboost_model for fold 0\n",
      "[09:26:02] WARNING: ../src/learner.cc:1095: Starting in XGBoost 1.3.0, the default evaluation metric used with the objective 'binary:logistic' was changed from 'error' to 'logloss'. Explicitly set eval_metric if you'd like to restore the old behavior.\n"
     ]
    },
    {
     "name": "stderr",
     "output_type": "stream",
     "text": [
      "/opt/conda/lib/python3.7/site-packages/xgboost/sklearn.py:1146: UserWarning: The use of label encoder in XGBClassifier is deprecated and will be removed in a future release. To remove this warning, do the following: 1) Pass option use_label_encoder=False when constructing XGBClassifier object; and 2) Encode your labels (y) as integers starting with 0, i.e. 0, 1, 2, ..., [num_class - 1].\n",
      "  warnings.warn(label_encoder_deprecation_msg, UserWarning)\n",
      "/opt/conda/lib/python3.7/site-packages/xgboost/sklearn.py:1146: UserWarning: The use of label encoder in XGBClassifier is deprecated and will be removed in a future release. To remove this warning, do the following: 1) Pass option use_label_encoder=False when constructing XGBClassifier object; and 2) Encode your labels (y) as integers starting with 0, i.e. 0, 1, 2, ..., [num_class - 1].\n",
      "  warnings.warn(label_encoder_deprecation_msg, UserWarning)\n"
     ]
    },
    {
     "name": "stdout",
     "output_type": "stream",
     "text": [
      "Saving xgboost_model for fold 1\n",
      "[09:26:02] WARNING: ../src/learner.cc:1095: Starting in XGBoost 1.3.0, the default evaluation metric used with the objective 'binary:logistic' was changed from 'error' to 'logloss'. Explicitly set eval_metric if you'd like to restore the old behavior.\n",
      "Saving xgboost_model for fold 2\n",
      "[09:26:02] WARNING: ../src/learner.cc:1095: Starting in XGBoost 1.3.0, the default evaluation metric used with the objective 'binary:logistic' was changed from 'error' to 'logloss'. Explicitly set eval_metric if you'd like to restore the old behavior.\n"
     ]
    },
    {
     "name": "stderr",
     "output_type": "stream",
     "text": [
      "/opt/conda/lib/python3.7/site-packages/xgboost/sklearn.py:1146: UserWarning: The use of label encoder in XGBClassifier is deprecated and will be removed in a future release. To remove this warning, do the following: 1) Pass option use_label_encoder=False when constructing XGBClassifier object; and 2) Encode your labels (y) as integers starting with 0, i.e. 0, 1, 2, ..., [num_class - 1].\n",
      "  warnings.warn(label_encoder_deprecation_msg, UserWarning)\n",
      "/opt/conda/lib/python3.7/site-packages/xgboost/sklearn.py:1146: UserWarning: The use of label encoder in XGBClassifier is deprecated and will be removed in a future release. To remove this warning, do the following: 1) Pass option use_label_encoder=False when constructing XGBClassifier object; and 2) Encode your labels (y) as integers starting with 0, i.e. 0, 1, 2, ..., [num_class - 1].\n",
      "  warnings.warn(label_encoder_deprecation_msg, UserWarning)\n"
     ]
    },
    {
     "name": "stdout",
     "output_type": "stream",
     "text": [
      "Saving xgboost_model for fold 3\n",
      "[09:26:02] WARNING: ../src/learner.cc:1095: Starting in XGBoost 1.3.0, the default evaluation metric used with the objective 'binary:logistic' was changed from 'error' to 'logloss'. Explicitly set eval_metric if you'd like to restore the old behavior.\n",
      "Saving xgboost_model for fold 4\n",
      "Using catboost_model\n"
     ]
    },
    {
     "name": "stderr",
     "output_type": "stream",
     "text": [
      "/opt/conda/lib/python3.7/site-packages/xgboost/sklearn.py:1146: UserWarning: The use of label encoder in XGBClassifier is deprecated and will be removed in a future release. To remove this warning, do the following: 1) Pass option use_label_encoder=False when constructing XGBClassifier object; and 2) Encode your labels (y) as integers starting with 0, i.e. 0, 1, 2, ..., [num_class - 1].\n",
      "  warnings.warn(label_encoder_deprecation_msg, UserWarning)\n"
     ]
    }
   ],
   "source": [
    "final_scores = {}\n",
    "for model_name, model in model_dispatcher.items():\n",
    "    print(f\"Using {model_name}\")\n",
    "    scores = []\n",
    "    for fold in range(5):\n",
    "        score = run(train_folds, fold, model, model_name, save_model='xgboost')\n",
    "        scores.append(score)\n",
    "        \n",
    "    final_scores[model_name] = scores"
   ]
  },
  {
   "cell_type": "code",
   "execution_count": 25,
   "id": "2eace548",
   "metadata": {
    "execution": {
     "iopub.execute_input": "2021-10-08T09:26:07.819368Z",
     "iopub.status.busy": "2021-10-08T09:26:07.818594Z",
     "iopub.status.idle": "2021-10-08T09:26:07.821426Z",
     "shell.execute_reply": "2021-10-08T09:26:07.821914Z",
     "shell.execute_reply.started": "2021-10-08T09:22:59.304581Z"
    },
    "papermill": {
     "duration": 0.048179,
     "end_time": "2021-10-08T09:26:07.822073",
     "exception": false,
     "start_time": "2021-10-08T09:26:07.773894",
     "status": "completed"
    },
    "tags": []
   },
   "outputs": [
    {
     "data": {
      "text/html": [
       "<div>\n",
       "<style scoped>\n",
       "    .dataframe tbody tr th:only-of-type {\n",
       "        vertical-align: middle;\n",
       "    }\n",
       "\n",
       "    .dataframe tbody tr th {\n",
       "        vertical-align: top;\n",
       "    }\n",
       "\n",
       "    .dataframe thead th {\n",
       "        text-align: right;\n",
       "    }\n",
       "</style>\n",
       "<table border=\"1\" class=\"dataframe\">\n",
       "  <thead>\n",
       "    <tr style=\"text-align: right;\">\n",
       "      <th></th>\n",
       "      <th>f0</th>\n",
       "      <th>f1</th>\n",
       "      <th>f2</th>\n",
       "      <th>f3</th>\n",
       "      <th>f4</th>\n",
       "      <th>CV</th>\n",
       "    </tr>\n",
       "  </thead>\n",
       "  <tbody>\n",
       "    <tr>\n",
       "      <th>lgbm_model</th>\n",
       "      <td>0.799270</td>\n",
       "      <td>0.802934</td>\n",
       "      <td>0.750525</td>\n",
       "      <td>0.788927</td>\n",
       "      <td>0.836603</td>\n",
       "      <td>0.795652</td>\n",
       "    </tr>\n",
       "    <tr>\n",
       "      <th>xgboost_model</th>\n",
       "      <td>0.809641</td>\n",
       "      <td>0.799165</td>\n",
       "      <td>0.731034</td>\n",
       "      <td>0.792868</td>\n",
       "      <td>0.826066</td>\n",
       "      <td>0.791755</td>\n",
       "    </tr>\n",
       "    <tr>\n",
       "      <th>catboost_model</th>\n",
       "      <td>0.801447</td>\n",
       "      <td>0.798394</td>\n",
       "      <td>0.762690</td>\n",
       "      <td>0.777318</td>\n",
       "      <td>0.815057</td>\n",
       "      <td>0.790981</td>\n",
       "    </tr>\n",
       "  </tbody>\n",
       "</table>\n",
       "</div>"
      ],
      "text/plain": [
       "                      f0        f1        f2        f3        f4        CV\n",
       "lgbm_model      0.799270  0.802934  0.750525  0.788927  0.836603  0.795652\n",
       "xgboost_model   0.809641  0.799165  0.731034  0.792868  0.826066  0.791755\n",
       "catboost_model  0.801447  0.798394  0.762690  0.777318  0.815057  0.790981"
      ]
     },
     "execution_count": 25,
     "metadata": {},
     "output_type": "execute_result"
    }
   ],
   "source": [
    "final_df_scores = pd.DataFrame(final_scores)\n",
    "final_df_scores = final_df_scores.T\n",
    "final_df_scores.columns = ['f0', 'f1', 'f2', 'f3', 'f4']\n",
    "final_df_scores['CV'] = (final_df_scores[\"f0\"] + final_df_scores[\"f1\"] + final_df_scores[\"f2\"] + final_df_scores[\"f3\"] + final_df_scores[\"f4\"]) / 5\n",
    "final_df_scores"
   ]
  },
  {
   "cell_type": "code",
   "execution_count": 26,
   "id": "8aa9ef8d",
   "metadata": {
    "execution": {
     "iopub.execute_input": "2021-10-08T09:26:07.886640Z",
     "iopub.status.busy": "2021-10-08T09:26:07.886070Z",
     "iopub.status.idle": "2021-10-08T09:26:07.888913Z",
     "shell.execute_reply": "2021-10-08T09:26:07.888415Z",
     "shell.execute_reply.started": "2021-10-08T09:22:59.327299Z"
    },
    "papermill": {
     "duration": 0.036838,
     "end_time": "2021-10-08T09:26:07.889050",
     "exception": false,
     "start_time": "2021-10-08T09:26:07.852212",
     "status": "completed"
    },
    "tags": []
   },
   "outputs": [],
   "source": [
    "# from sklearn import tree\n",
    "# plt.figure(figsize=(12,8))\n",
    "# tree.plot_tree(model_dispatcher['dt'],\n",
    "#                feature_names=list(train_folds.drop(['TravelInsurance', 'id', 'kfold'], axis=1).columns),\n",
    "#                class_names= [\"0\", \"1\"],\n",
    "#                filled = True)\n",
    "# plt.show()"
   ]
  },
  {
   "cell_type": "markdown",
   "id": "0974e4c4",
   "metadata": {
    "papermill": {
     "duration": 0.029903,
     "end_time": "2021-10-08T09:26:07.949496",
     "exception": false,
     "start_time": "2021-10-08T09:26:07.919593",
     "status": "completed"
    },
    "tags": []
   },
   "source": [
    "# Creating submission"
   ]
  },
  {
   "cell_type": "code",
   "execution_count": 27,
   "id": "680d29d6",
   "metadata": {
    "execution": {
     "iopub.execute_input": "2021-10-08T09:26:08.013399Z",
     "iopub.status.busy": "2021-10-08T09:26:08.012471Z",
     "iopub.status.idle": "2021-10-08T09:26:08.128941Z",
     "shell.execute_reply": "2021-10-08T09:26:08.129501Z",
     "shell.execute_reply.started": "2021-10-08T09:23:15.653748Z"
    },
    "papermill": {
     "duration": 0.150144,
     "end_time": "2021-10-08T09:26:08.129696",
     "exception": false,
     "start_time": "2021-10-08T09:26:07.979552",
     "status": "completed"
    },
    "tags": []
   },
   "outputs": [],
   "source": [
    "sample_sub = pd.DataFrame()\n",
    "sample_sub['id'] = test['id']\n",
    "\n",
    "for i in range(5):\n",
    "    model = joblib.load(f\"xgboost_model_{i}.bin\")\n",
    "    try:\n",
    "        test_preds += model.predict_proba(test.drop([\"id\"], axis=1))[:, 1]\n",
    "    except:\n",
    "        test_preds = model.predict_proba(test.drop([\"id\"], axis=1))[:, 1]\n",
    "# take average of 5 folds' predictions\n",
    "test_preds /= 5\n",
    "sample_sub['TravelInsurance'] = test_preds"
   ]
  },
  {
   "cell_type": "code",
   "execution_count": 28,
   "id": "02bb1084",
   "metadata": {
    "execution": {
     "iopub.execute_input": "2021-10-08T09:26:08.195575Z",
     "iopub.status.busy": "2021-10-08T09:26:08.194639Z",
     "iopub.status.idle": "2021-10-08T09:26:08.202476Z",
     "shell.execute_reply": "2021-10-08T09:26:08.202933Z",
     "shell.execute_reply.started": "2021-10-08T09:23:16.843031Z"
    },
    "papermill": {
     "duration": 0.042929,
     "end_time": "2021-10-08T09:26:08.203101",
     "exception": false,
     "start_time": "2021-10-08T09:26:08.160172",
     "status": "completed"
    },
    "tags": []
   },
   "outputs": [
    {
     "data": {
      "text/html": [
       "<div>\n",
       "<style scoped>\n",
       "    .dataframe tbody tr th:only-of-type {\n",
       "        vertical-align: middle;\n",
       "    }\n",
       "\n",
       "    .dataframe tbody tr th {\n",
       "        vertical-align: top;\n",
       "    }\n",
       "\n",
       "    .dataframe thead th {\n",
       "        text-align: right;\n",
       "    }\n",
       "</style>\n",
       "<table border=\"1\" class=\"dataframe\">\n",
       "  <thead>\n",
       "    <tr style=\"text-align: right;\">\n",
       "      <th></th>\n",
       "      <th>id</th>\n",
       "      <th>TravelInsurance</th>\n",
       "    </tr>\n",
       "  </thead>\n",
       "  <tbody>\n",
       "    <tr>\n",
       "      <th>0</th>\n",
       "      <td>0</td>\n",
       "      <td>0.061233</td>\n",
       "    </tr>\n",
       "    <tr>\n",
       "      <th>1</th>\n",
       "      <td>9</td>\n",
       "      <td>0.458299</td>\n",
       "    </tr>\n",
       "    <tr>\n",
       "      <th>2</th>\n",
       "      <td>14</td>\n",
       "      <td>0.127281</td>\n",
       "    </tr>\n",
       "    <tr>\n",
       "      <th>3</th>\n",
       "      <td>31</td>\n",
       "      <td>0.995640</td>\n",
       "    </tr>\n",
       "    <tr>\n",
       "      <th>4</th>\n",
       "      <td>41</td>\n",
       "      <td>0.973035</td>\n",
       "    </tr>\n",
       "  </tbody>\n",
       "</table>\n",
       "</div>"
      ],
      "text/plain": [
       "   id  TravelInsurance\n",
       "0   0         0.061233\n",
       "1   9         0.458299\n",
       "2  14         0.127281\n",
       "3  31         0.995640\n",
       "4  41         0.973035"
      ]
     },
     "execution_count": 28,
     "metadata": {},
     "output_type": "execute_result"
    }
   ],
   "source": [
    "sample_sub.head()"
   ]
  },
  {
   "cell_type": "code",
   "execution_count": 29,
   "id": "4991d216",
   "metadata": {
    "execution": {
     "iopub.execute_input": "2021-10-08T09:26:08.268411Z",
     "iopub.status.busy": "2021-10-08T09:26:08.267456Z",
     "iopub.status.idle": "2021-10-08T09:26:08.276517Z",
     "shell.execute_reply": "2021-10-08T09:26:08.275742Z",
     "shell.execute_reply.started": "2021-10-08T09:25:30.311756Z"
    },
    "papermill": {
     "duration": 0.042528,
     "end_time": "2021-10-08T09:26:08.276720",
     "exception": false,
     "start_time": "2021-10-08T09:26:08.234192",
     "status": "completed"
    },
    "tags": []
   },
   "outputs": [
    {
     "name": "stdout",
     "output_type": "stream",
     "text": [
      "Predictions value counts:\n"
     ]
    },
    {
     "data": {
      "text/plain": [
       "0    282\n",
       "1    115\n",
       "Name: TravelInsurance, dtype: int64"
      ]
     },
     "execution_count": 29,
     "metadata": {},
     "output_type": "execute_result"
    }
   ],
   "source": [
    "print(\"Predictions value counts:\")\n",
    "((sample_sub.TravelInsurance > 0.5) * 1).value_counts()"
   ]
  },
  {
   "cell_type": "code",
   "execution_count": 30,
   "id": "d5e53720",
   "metadata": {
    "execution": {
     "iopub.execute_input": "2021-10-08T09:26:08.368629Z",
     "iopub.status.busy": "2021-10-08T09:26:08.365545Z",
     "iopub.status.idle": "2021-10-08T09:26:08.513099Z",
     "shell.execute_reply": "2021-10-08T09:26:08.512547Z",
     "shell.execute_reply.started": "2021-10-08T09:25:31.665988Z"
    },
    "papermill": {
     "duration": 0.205042,
     "end_time": "2021-10-08T09:26:08.513247",
     "exception": false,
     "start_time": "2021-10-08T09:26:08.308205",
     "status": "completed"
    },
    "tags": []
   },
   "outputs": [
    {
     "data": {
      "image/png": "[encoded data removed]",
      "text/plain": [
       "<Figure size 864x576 with 1 Axes>"
      ]
     },
     "metadata": {
      "needs_background": "light"
     },
     "output_type": "display_data"
    }
   ],
   "source": [
    "plt.figure(figsize=(12, 8))\n",
    "plt.hist(sample_sub.TravelInsurance)\n",
    "plt.xlabel(\"Travel Insurance\")\n",
    "plt.ylabel(\"Frequency\")\n",
    "plt.title(\"Distribution of predictions\")\n",
    "plt.show()"
   ]
  },
  {
   "cell_type": "code",
   "execution_count": 31,
   "id": "7405509c",
   "metadata": {
    "execution": {
     "iopub.execute_input": "2021-10-08T09:26:08.582281Z",
     "iopub.status.busy": "2021-10-08T09:26:08.581608Z",
     "iopub.status.idle": "2021-10-08T09:26:08.588813Z",
     "shell.execute_reply": "2021-10-08T09:26:08.588155Z",
     "shell.execute_reply.started": "2021-10-08T06:28:30.686305Z"
    },
    "papermill": {
     "duration": 0.043876,
     "end_time": "2021-10-08T09:26:08.588958",
     "exception": false,
     "start_time": "2021-10-08T09:26:08.545082",
     "status": "completed"
    },
    "tags": []
   },
   "outputs": [],
   "source": [
    "sample_sub.to_csv(\"xgb_log_income_feat_eng.csv\", index=False)"
   ]
  },
  {
   "cell_type": "code",
   "execution_count": null,
   "id": "c8a9cefe",
   "metadata": {
    "papermill": {
     "duration": 0.032055,
     "end_time": "2021-10-08T09:26:08.653185",
     "exception": false,
     "start_time": "2021-10-08T09:26:08.621130",
     "status": "completed"
    },
    "tags": []
   },
   "outputs": [],
   "source": []
  }
 ],
 "metadata": {
  "kernelspec": {
   "display_name": "Python 3",
   "language": "python",
   "name": "python3"
  },
  "language_info": {
   "codemirror_mode": {
    "name": "ipython",
    "version": 3
   },
   "file_extension": ".py",
   "mimetype": "text/x-python",
   "name": "python",
   "nbconvert_exporter": "python",
   "pygments_lexer": "ipython3",
   "version": "3.7.10"
  },
  "papermill": {
   "default_parameters": {},
   "duration": 21.801154,
   "end_time": "2021-10-08T09:26:10.184545",
   "environment_variables": {},
   "exception": null,
   "input_path": "__notebook__.ipynb",
   "output_path": "__notebook__.ipynb",
   "parameters": {},
   "start_time": "2021-10-08T09:25:48.383391",
   "version": "2.3.3"
  }
 },
 "nbformat": 4,
 "nbformat_minor": 5
}
